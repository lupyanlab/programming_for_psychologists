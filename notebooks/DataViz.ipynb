{
 "cells": [
  {
   "cell_type": "markdown",
   "metadata": {},
   "source": [
    "# Data Visualization\n",
    "\n",
    "I will be gradually posting various cool examples of Data Visualization\n",
    "in R, Python, JavaScript, etc. Here are some recommended resources:\n",
    "\n",
    "## Books\n",
    "\n",
    "[Visualize This](http://www.amazon.com/Visualize-This-FlowingData-Visualization-Statistics/dp/0470944889/ref=sr_1_1?s=books&ie=UTF8&qid=1323672630&sr=1-1) by Nathan Yau, the guy behind the [Flowing Data](http://flowingdata.com/) blog.\n",
    "\n",
    "## Graphing libraries\n",
    "\n",
    "- [GGplot graphing library for R](http://had.co.nz/ggplot2)\n",
    "- [MatPlotLib](http://matplotlib.sourceforge.net/), the basic plotting library for Python.\n",
    "- [EazyViz](http://code.google.com/p/scitools/wiki/EasyvizDocumentation) more Python graphing. Check out the 3D quiver plot!\n",
    "- [Mayavi2](http://code.enthought.com/projects/mayavi/), a sophisticated visualization platform especially for 3D and complex visualization. Includes a GUI.\n",
    "\n",
    "## Tutorials\n",
    "\n",
    "I was going to do this precise tutorial showing how to create\n",
    "publication-quality *useful* graphs with ggplot, but someone\n",
    "(thankfully) beat me to it: [Psychology-type graphs using GGplot](http://egret.psychol.cam.ac.uk/statistics/R/graphs2.html). These\n",
    "examples also show one way to convert between 'wide' types (bad) and\n",
    "'long' types (good). For more flexible conversions check out the melt\n",
    "and cast functions in the reshape package written by Hadley Wickham,\n",
    "also the author of GGPlot.\n",
    "\n",
    "[Joe Fruehwald's GGPlot tutorial](http://www.ling.upenn.edu/~joseff/rstudy/summer2010_ggplot2_intro.html).\n",
    "Notice in particular the graphs that use an interaction factor (e.g., factor=subj:block).\n",
    "\n",
    "Another excellent [set of examples][1]\n",
    "with an emphasis on displaying within-subject error bars (something most people do incorrectly). The R Cookbook site has some other excellent tutorials on ggplot.\n",
    "\n",
    "<!-- Format the link this way because it contains a parenthesis -->\n",
    "[1]: http://www.cookbook-r.com/Graphs/Plotting_means_and_error_bars_(ggplot2)/\n",
    "\n",
    "It can be annoying to figure out how to set the attributes (font, size, etc.) of various graph attributes. Here are some descriptions of [ggplot theme definitions](http://sape.inf.usi.ch/quick-reference/ggplot2/themes), and\n",
    "[examples of modifying ggplot legends][2].\n",
    "\n",
    "[2]: http://www.cookbook-r.com/Graphs/Legends_(ggplot2)/"
   ]
  },
  {
   "cell_type": "markdown",
   "metadata": {},
   "source": [
    "## Examples\n",
    "\n",
    "### Plotting a 3d trajectory from some points using splines (in R)"
   ]
  },
  {
   "cell_type": "code",
   "execution_count": 1,
   "metadata": {},
   "outputs": [
    {
     "data": {},
     "metadata": {},
     "output_type": "display_data"
    }
   ],
   "source": [
    "library(rgl)\n",
    "x <- splinefun(1:10, c(25,12,2,2,1,1,4,10,12,14)) #splinefun fits a spline \n",
    "y <- splinefun(1:10, c(32,25,12,2,2,2,5,7,8,10))\n",
    "z <- splinefun(1:10, c(40,32,25,12,10,12,25,32,40,44))\n",
    "\n",
    "times <- seq(1, 10, len=200)\n",
    "plot3d(x(times), y(times), z(times), type=\"l\",xlab=\"x\",ylab=\"y\",zlab=\"z\",col=\"red\")"
   ]
  },
  {
   "cell_type": "code",
   "execution_count": 2,
   "metadata": {
    "collapsed": true
   },
   "outputs": [],
   "source": [
    "rgl.close()"
   ]
  },
  {
   "cell_type": "markdown",
   "metadata": {},
   "source": [
    "If you want to plot multiple trajectories on the same graph, add\n",
    "additional ones like so:"
   ]
  },
  {
   "cell_type": "code",
   "execution_count": 4,
   "metadata": {},
   "outputs": [
    {
     "data": {},
     "metadata": {},
     "output_type": "display_data"
    },
    {
     "data": {},
     "metadata": {},
     "output_type": "display_data"
    }
   ],
   "source": [
    "plot3d(x(times), y(times), z(times), type=\"l\",add=TRUE,col=\"green\")\n",
    "plot3d(x(times), y(times), z(times), type=\"l\",add=TRUE,col=\"red\")"
   ]
  },
  {
   "cell_type": "code",
   "execution_count": 5,
   "metadata": {
    "collapsed": true
   },
   "outputs": [],
   "source": [
    "rgl.close()"
   ]
  },
  {
   "cell_type": "markdown",
   "metadata": {},
   "source": [
    "You can spin the graph around using the mouse and zoom-in/out using the\n",
    "mousewheel. Save it using rgl.snapshot. See ?rgl.snapshot for info on\n",
    "syntax.\n",
    "\n",
    "![3d trajectory from a set of points](images/Plot3dExample.png)"
   ]
  },
  {
   "cell_type": "code",
   "execution_count": null,
   "metadata": {
    "collapsed": true
   },
   "outputs": [],
   "source": []
  }
 ],
 "metadata": {
  "kernelspec": {
   "display_name": "R",
   "language": "R",
   "name": "ir"
  },
  "language_info": {
   "codemirror_mode": "r",
   "file_extension": ".r",
   "mimetype": "text/x-r-source",
   "name": "R",
   "pygments_lexer": "r",
   "version": "3.4.1"
  }
 },
 "nbformat": 4,
 "nbformat_minor": 2
}

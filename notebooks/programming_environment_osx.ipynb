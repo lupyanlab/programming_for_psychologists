{
 "cells": [
  {
   "cell_type": "markdown",
   "metadata": {
    "toc": true
   },
   "source": [
    "<h1>Table of Contents<span class=\"tocSkip\"></span></h1>\n",
    "<div class=\"toc\" style=\"margin-top: 1em;\"><ul class=\"toc-item\"><li><span><a href=\"#Programming-Environment:-Mac-OS-X\" data-toc-modified-id=\"Programming-Environment:-Mac-OS-X-1\"><span class=\"toc-item-num\">1&nbsp;&nbsp;</span>Programming Environment: Mac OS X</a></span></li><li><span><a href=\"#Installing-the-Anaconda-Distribution-of-Python\" data-toc-modified-id=\"Installing-the-Anaconda-Distribution-of-Python-2\"><span class=\"toc-item-num\">2&nbsp;&nbsp;</span>Installing the Anaconda Distribution of Python</a></span><ul class=\"toc-item\"><li><span><a href=\"#Installing-the-packages\" data-toc-modified-id=\"Installing-the-packages-2.1\"><span class=\"toc-item-num\">2.1&nbsp;&nbsp;</span>Installing the packages</a></span></li><li><span><a href=\"#Test-Anaconda-Python-Install\" data-toc-modified-id=\"Test-Anaconda-Python-Install-2.2\"><span class=\"toc-item-num\">2.2&nbsp;&nbsp;</span>Test Anaconda Python Install</a></span></li><li><span><a href=\"#Test-PsychoPy\" data-toc-modified-id=\"Test-PsychoPy-2.3\"><span class=\"toc-item-num\">2.3&nbsp;&nbsp;</span>Test PsychoPy</a></span></li><li><span><a href=\"#Test-spyder\" data-toc-modified-id=\"Test-spyder-2.4\"><span class=\"toc-item-num\">2.4&nbsp;&nbsp;</span>Test spyder</a></span></li></ul></li><li><span><a href=\"#Installing-pyo\" data-toc-modified-id=\"Installing-pyo-3\"><span class=\"toc-item-num\">3&nbsp;&nbsp;</span>Installing pyo</a></span><ul class=\"toc-item\"><li><span><a href=\"#Test-pyo\" data-toc-modified-id=\"Test-pyo-3.1\"><span class=\"toc-item-num\">3.1&nbsp;&nbsp;</span>Test pyo</a></span></li></ul></li><li><span><a href=\"#Installing-Sublime-Text\" data-toc-modified-id=\"Installing-Sublime-Text-4\"><span class=\"toc-item-num\">4&nbsp;&nbsp;</span>Installing Sublime Text</a></span><ul class=\"toc-item\"><li><span><a href=\"#Create-a-shortcut-to-Sublime-Text\" data-toc-modified-id=\"Create-a-shortcut-to-Sublime-Text-4.1\"><span class=\"toc-item-num\">4.1&nbsp;&nbsp;</span>Create a shortcut to Sublime Text</a></span></li></ul></li><li><span><a href=\"#Optional:-Creating-a-virtual-environment\" data-toc-modified-id=\"Optional:-Creating-a-virtual-environment-5\"><span class=\"toc-item-num\">5&nbsp;&nbsp;</span>Optional: Creating a virtual environment</a></span></li></ul></div>"
   ]
  },
  {
   "cell_type": "markdown",
   "metadata": {},
   "source": [
    "Programming Environment: Mac OS X\n",
    "===\n",
    "We will be using the Anaconda distribution of Python (2.7). This section will guide you on installing Anaconda, PsychoPy, pyo, and Sublime Text. Although Python is installed by default in OSX we will ***not*** be using this default install. Instead we will be using the Anaconda environment which is bundled with lots of packages for scientific computing, allows you to more easily install packages and create virtual environments, and comes with a handy IDE (Integrated Development Environment) called **Spyder**. "
   ]
  },
  {
   "cell_type": "markdown",
   "metadata": {},
   "source": [
    "Installing the Anaconda Distribution of Python\n",
    "===\n",
    "First let's check to see what Python is installed on your system. Open a terminal and type the word `python` at the prompt and press enter. To open a terminal enter 'terminal' in Spotlight (Command-Space). Tip: if you don't already have terminal pinned to your task-bar, now is a good time to do it.\n",
    "\n",
    "When you enter `python`, You'll see output that looks something like this:\n",
    "\n",
    "```\n",
    "$ python\n",
    "Python 2.7.10 (default, Feb  7 2017, 00:08:15)\n",
    "[GCC 4.2.1 Compatible Apple LLVM 8.0.0 (clang-800.0.34)] on darwin\n",
    "Type \"help\", \"copyright\", \"credits\" or \"license\" for more information.\n",
    ">>>\n",
    "```    \n",
    "From this output, we can see that Python is installed, and the currently installed version is Python 2.7.10. Let's exit out of it by entering `exit()` and enter and install the Anaconda environment. To keep things lean we'll install the minimal install of Anaconda called ***Miniconda*** and then add the necessary packages to it.\n",
    "\n",
    "* First, download and Install the **Python 2.7 64 bit** [Miniconda installer](https://conda.io/miniconda.html). If you are asked whether you want the installer to prepend Anaconda to the to the PATH, respond ***yes***.\n",
    "\n",
    "For simplicity, we'll install all the Python packages we'll need into the `root` environment of Anaconda. If you want a separate environment for `PsychoPy`, see [Creating a virtual environment](#Optional:-Creating-a-virtual-environment). If you don't know what virtual environments are and want to learn, see [here](https://conda.io/docs/user-guide/tasks/manage-environments.html)\n",
    "\n",
    "## Installing the packages\n",
    "* Once Miniconda is installed, go to `terminal` and paste in the following commands, press `enter` and wait for everything to install:\n",
    "\n",
    "``` bash\n",
    "conda install spyder jupyter\n",
    "pip install numpy scipy matplotlib pandas pyopengl pyglet==1.2.4 pillow moviepy lxml\n",
    "pip install openpyxl configobj wxpython future json_tricks pyobjc\n",
    "conda install pyaudio psutil\n",
    "pip install psychopy\n",
    "```\n",
    "\n",
    "<div class=\"alert alert-block alert-info\">\n",
    "Note that `pyobjc` takes a little while to install.\n",
    "</div>\n",
    "\n",
    "<div class=\"alert alert-block alert-info\">\n",
    "If you have install errors, note them and let me know via the #installation_problems Slack sub-channel.\n",
    "</div>\n",
    "\n",
    "## Test Anaconda Python Install\n",
    "====\n",
    "* In the terminal, enter `python`, now instead of the Mac-bundled Python, you should see something like:\n",
    "```bash\n",
    "$ python \n",
    "Python 2.7.13 |Anaconda custom (x86_64)| (default, Dec 20 2016, 23:05:08)\n",
    "[GCC 4.2.1 Compatible Apple LLVM 6.0 (clang-600.0.57)] on darwin\n",
    "Type \"help\", \"copyright\", \"credits\" or \"license\" for more information.\n",
    ">>>\n",
    "```\n",
    "\n",
    "## Test PsychoPy\n",
    "====\n",
    "* Now let's test that `PsychoPy` installed correctly. At the python prompt type:\n",
    "\n",
    "```python\n",
    ">>> import psychopy\n",
    ">>> psychopy.__version__\n",
    "'1.85.3'\n",
    "```\n",
    "\n",
    "If you see this, you know that the PsychoPy library installed correctly. \n",
    "\n",
    "* Let's test that PsychoPy can successfully open a new window\n",
    "\n",
    "```python\n",
    ">>>from psychopy import visual\n",
    ">>>visual.Window((400,400),color=\"green\")\n",
    "```\n",
    "\n",
    "When you hit enter after the second line, you should see a small green window. \n",
    "<div class=\"alert alert-block alert-info\">\n",
    "Click on the terminal and enter `exit()` to quit (you won't be able to close the window like a regular Mac window)\n",
    "</div>\n",
    "\n",
    "\n",
    "\n",
    "## Test spyder\n",
    "====\n",
    "* Now let's test the spyder graphical IDE. From the terminal type `spyder`. You should see something like this:\n",
    "![title](images/spyder.png)\n",
    "\n",
    "If that looks a like RStudio, that's because all these IDEs are descended from a common ancestor. \n"
   ]
  },
  {
   "cell_type": "markdown",
   "metadata": {},
   "source": [
    "Installing pyo\n",
    "===\n",
    "\n",
    "* The last thing we need to do is install the `pyo` package which `PsychoPy` uses to play audio files with low(er) latencies. Unfortunately this is a bit complicated.  (There are easier-to-install alternatives, but in my testing, `pyo` consistently produces more robust performance).\n",
    "\n",
    "Download the .dmg file from [here](http://ajaxsoundstudio.com/downloads/pyo_0.8.0_OSX-universal.dmg). After double-clicking on the downloaded .dmg file, the packager will open. Depending on your Mac settings, you may not be able to open the `pyo_0.8.0_OSX_...` icon by double-clicking on it. If you get an error about the program being from an unidientified installer, right-click on the `pyo_0.8.0_OSX_...` icon and choose *open*. Now, go through the installer hitting next until everything is installed. Note, the current version of pyo is 0.8.8, but 0.8.0 appears to be more stable so the link is for that version. \n",
    "\n",
    "...Unfortunately, the installer installs `pyo` in the wrong place (it creates folders at \"/Library/Frameworks/Python.framework\" even if no Framework build of python is installed) and therefore it doesn't work out of the box for a version of python installed with Anaconda (or other Python distributions).\n",
    "\n",
    "You can still use the .dmg installer, but you have to manually move the pyo files from the Framework to the Anaconda directory. Specifically you have to move the following files:\n",
    "\n",
    "```\n",
    "_pyo.so\n",
    "_pyo64.so\n",
    "pyo.py\n",
    "pyo64.py\n",
    "pyolib (folder)\n",
    "```\n",
    "\n",
    "These files need to be moved **from**  inside `/Library/Frameworks/Python.framework/` (for me, they're inside `/Library/Frameworks/Python.framework/Versions/2.7/lib/python2.7/site-packages/`). If you have trouble finding them, search for pyo64.py in Spotlight, or at the terminal type `locate pyo64.py`\n",
    "\n",
    "The need to be moved **to** your Anaconda python packages folder. Most of the time, it will be \n",
    "`~/anaconda2/lib/python2.7/site-packages/`. You can navigate to this folder using Finder or from the terminal, e.g., `cd ~/anaconda2/lib/python2.7/site-packages/` followed by `open .` to open the current directory inside finder.\n",
    "\n",
    "<div class=\"alert alert-block alert-info\">\n",
    "If using the Terminal for copying files using commands like `cp`, `mv` is unfamiliar to you, make sure to attend the bootcamp prior to the start of class. \n",
    "</div>\n",
    "\n",
    "\n",
    "\n",
    "## Test pyo\n",
    "====\n",
    "* In terminal, enter `python`, then:\n",
    "``` python\n",
    "    >>>import pyo\n",
    "    pyo version 0.8.0 (uses single precision)\n",
    "```\n",
    "\n",
    "If you see this, all is good.\n"
   ]
  },
  {
   "cell_type": "markdown",
   "metadata": {},
   "source": [
    "Installing Sublime Text\n",
    "===\n",
    "Sublime Text is a popular text editor with a very large collection of plugins and themes that allow you to make it anything you want it to be. It is not free, but has a generous trial-use policy. If you like it, please purchase a license.\n",
    "\n",
    "To install Sublime Text, go to the [Downloads](http://www.sublimetext.com/3) page, and click on the OS X installer. \n",
    "\n",
    "To use it efficiently, you'll want to learn some [keyboard shortcuts](http://sweetme.at/2013/08/08/sublime-text-keyboard-shortcuts/). \n",
    "\n",
    "There are lots of handy packages for Sublime Text. To install them, you'll want to first install [Package Control](https://packagecontrol.io/installation) which allows you to browse and install packages directly from within Sublime Text. Some especially handy ones are [Origami](https://packagecontrol.io/packages/Origami), [SublimeREPL](https://packagecontrol.io/packages/SublimeREPL), [AdvancedCSV](https://packagecontrol.io/packages/Advanced%20CSV), and [Terminal](https://packagecontrol.io/packages/Terminal).\n",
    "\n",
    "## Create a shortcut to Sublime Text\n",
    "\n",
    "* It's very handy to be able to open a file with sublime text from the terminal. The easiest way to do this is with an `alias`. \n",
    "\n",
    "At the terminal, type `locate bin/subl`\n",
    "This will tell you where Sublime Text is installed. Copy the directory path into the clipboard. Then from the terminal: `nano ~/.bash_profile` . This will open up your bash shell settings file inside a little text-based text editor called `nano`. Scroll to the bottom and paste in the Sublime Text directory such that the last line looks something like this:\n",
    "\n",
    "```bash\n",
    "alias s=\"/Applications/Sublime\\ Text.app/Contents/SharedSupport/bin/subl\"\n",
    "```\n",
    "\n",
    "Ctrl-X to exit. Save file when it prompts you to and then restart Terminal.\n",
    "\n",
    "Now you should be able to open any file inside Sublime Text using `s`, e.g., `s my_file.txt` \n",
    "\n"
   ]
  },
  {
   "cell_type": "markdown",
   "metadata": {},
   "source": [
    "# Optional: Creating a virtual environment\n",
    "====\n",
    "\n",
    "If you already have a Anaconda environment that you're happy with, and don't want to mess with, or you want to create a separate Python environment for this class, execute the following two lines at the Terminal ***before*** following the [package installation instructions](#Installing-the-packages):\n",
    "\n",
    "```bash\n",
    "conda create -n psychopy pip \n",
    "source activate psychopy\n",
    "```\n"
   ]
  },
  {
   "cell_type": "markdown",
   "metadata": {},
   "source": [
    "[top](#)"
   ]
  },
  {
   "cell_type": "markdown",
   "metadata": {},
   "source": [
    "- - -\n",
    "[Previous: Programming Environment](http://nbviewer.ipython.org/urls/raw.github.com/ehmatthes/intro_programming/master/notebooks/programming_environment.ipynb) | \n",
    "[Home](http://nbviewer.ipython.org/urls/raw.github.com/ehmatthes/intro_programming/master/notebooks/index.ipynb) | \n",
    "[Next: Hello World](http://nbviewer.ipython.org/urls/raw.github.com/ehmatthes/intro_programming/master/notebooks/hello_world.ipynb)"
   ]
  }
 ],
 "metadata": {
  "kernelspec": {
   "display_name": "Python 2",
   "language": "python",
   "name": "python2"
  },
  "language_info": {
   "codemirror_mode": {
    "name": "ipython",
    "version": 2
   },
   "file_extension": ".py",
   "mimetype": "text/x-python",
   "name": "python",
   "nbconvert_exporter": "python",
   "pygments_lexer": "ipython2",
   "version": "2.7.13"
  },
  "toc": {
   "nav_menu": {
    "height": "14px",
    "width": "160px"
   },
   "number_sections": true,
   "sideBar": true,
   "skip_h1_title": false,
   "toc_cell": true,
   "toc_position": {
    "height": "565px",
    "left": "0px",
    "right": "20px",
    "top": "111px",
    "width": "224px"
   },
   "toc_section_display": "block",
   "toc_window_display": true
  }
 },
 "nbformat": 4,
 "nbformat_minor": 1
}

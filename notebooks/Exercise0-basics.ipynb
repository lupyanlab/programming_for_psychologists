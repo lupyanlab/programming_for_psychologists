{
 "cells": [
  {
   "cell_type": "markdown",
   "metadata": {},
   "source": [
    "# Some python essentials to get you started"
   ]
  },
  {
   "cell_type": "markdown",
   "metadata": {},
   "source": [
    "## Assigning a variable and printing its value"
   ]
  },
  {
   "cell_type": "code",
   "execution_count": 2,
   "metadata": {
    "scrolled": false
   },
   "outputs": [
    {
     "name": "stdout",
     "output_type": "stream",
     "text": [
      "I am a string and I'm a 5\n"
     ]
    }
   ],
   "source": [
    "my_string = \"I am a string\"\n",
    "my_num = 5\n",
    "\n",
    "print my_string, \"and I'm a\", my_num"
   ]
  },
  {
   "cell_type": "markdown",
   "metadata": {
    "hide_input": false
   },
   "source": [
    "## A `for` loop along a list"
   ]
  },
  {
   "cell_type": "code",
   "execution_count": 3,
   "metadata": {},
   "outputs": [
    {
     "name": "stdout",
     "output_type": "stream",
     "text": [
      "[0, 1, 2, 3, 4, 5, 6, 7, 8, 9]\n",
      "0\n",
      "1\n",
      "2\n",
      "3\n",
      "4\n",
      "5\n",
      "6\n",
      "7\n",
      "8\n",
      "9\n"
     ]
    }
   ],
   "source": [
    "print range(10)\n",
    "for num in range(10):\n",
    "    print num"
   ]
  },
  {
   "cell_type": "markdown",
   "metadata": {},
   "source": [
    "### Another `for` loop"
   ]
  },
  {
   "cell_type": "code",
   "execution_count": 3,
   "metadata": {},
   "outputs": [
    {
     "name": "stdout",
     "output_type": "stream",
     "text": [
      "dog\n",
      "cat\n",
      "pig\n"
     ]
    }
   ],
   "source": [
    "for item in ['dog', 'cat', 'pig']:\n",
    "    print item"
   ]
  },
  {
   "cell_type": "markdown",
   "metadata": {},
   "source": [
    "## A few simple conditionals (`if` statements)"
   ]
  },
  {
   "cell_type": "code",
   "execution_count": 4,
   "metadata": {},
   "outputs": [
    {
     "name": "stdout",
     "output_type": "stream",
     "text": [
      "it's a 5!\n"
     ]
    }
   ],
   "source": [
    "if my_num == 5:\n",
    "    print \"it's a 5!\"\n",
    "else:\n",
    "    print \"it's not a 5!\""
   ]
  },
  {
   "cell_type": "code",
   "execution_count": 5,
   "metadata": {},
   "outputs": [],
   "source": [
    "if 5<2:\n",
    "    print 'yes indeed'\n",
    "elif 10<2:\n",
    "    print 'this is true too!'"
   ]
  },
  {
   "cell_type": "markdown",
   "metadata": {},
   "source": [
    "Predict what each of these statements will return. Then check."
   ]
  },
  {
   "cell_type": "code",
   "execution_count": 5,
   "metadata": {},
   "outputs": [
    {
     "name": "stdout",
     "output_type": "stream",
     "text": [
      "False\n"
     ]
    }
   ],
   "source": [
    "print 's'==True"
   ]
  },
  {
   "cell_type": "code",
   "execution_count": 6,
   "metadata": {},
   "outputs": [
    {
     "name": "stdout",
     "output_type": "stream",
     "text": [
      "True\n"
     ]
    }
   ],
   "source": [
    "print 1==True"
   ]
  },
  {
   "cell_type": "code",
   "execution_count": 7,
   "metadata": {},
   "outputs": [
    {
     "name": "stdout",
     "output_type": "stream",
     "text": [
      "False\n"
     ]
    }
   ],
   "source": [
    "print 0==True"
   ]
  },
  {
   "cell_type": "code",
   "execution_count": 8,
   "metadata": {},
   "outputs": [
    {
     "name": "stdout",
     "output_type": "stream",
     "text": [
      "False\n"
     ]
    }
   ],
   "source": [
    "print True==False"
   ]
  },
  {
   "cell_type": "code",
   "execution_count": 9,
   "metadata": {},
   "outputs": [
    {
     "name": "stdout",
     "output_type": "stream",
     "text": [
      "True\n"
     ]
    }
   ],
   "source": [
    "print (True or False)==True"
   ]
  },
  {
   "cell_type": "code",
   "execution_count": 10,
   "metadata": {},
   "outputs": [
    {
     "ename": "SyntaxError",
     "evalue": "invalid syntax (<ipython-input-10-4540373c5b89>, line 1)",
     "output_type": "error",
     "traceback": [
      "\u001b[0;36m  File \u001b[0;32m\"<ipython-input-10-4540373c5b89>\"\u001b[0;36m, line \u001b[0;32m1\u001b[0m\n\u001b[0;31m    print print==True\u001b[0m\n\u001b[0m              ^\u001b[0m\n\u001b[0;31mSyntaxError\u001b[0m\u001b[0;31m:\u001b[0m invalid syntax\n"
     ]
    }
   ],
   "source": [
    "print print==True"
   ]
  },
  {
   "cell_type": "markdown",
   "metadata": {},
   "source": [
    "## A `while` loop"
   ]
  },
  {
   "cell_type": "code",
   "execution_count": 11,
   "metadata": {},
   "outputs": [
    {
     "name": "stdout",
     "output_type": "stream",
     "text": [
      "I'm a  5 and I'm less than or equal to 5!\n",
      "I'm a  4 and I'm less than or equal to 5!\n",
      "I'm a  3 and I'm less than or equal to 5!\n",
      "I'm a  2 and I'm less than or equal to 5!\n",
      "I'm a  1 and I'm less than or equal to 5!\n"
     ]
    }
   ],
   "source": [
    "another_num=5\n",
    "while another_num <= 5 and another_num>0:\n",
    "    print \"I'm a \", another_num, \"and I'm less than or equal to 5!\"\n",
    "    another_num -= 1"
   ]
  },
  {
   "cell_type": "markdown",
   "metadata": {},
   "source": [
    "# Now for a couple exercises\n",
    "\n",
    "1. Use a for loop that prints out the numbers 0 through 5\n",
    "1. Use a for loop to print out the numbers 2 through 8. Now do another one to print 9 through 0 (i.e., backwards)\n",
    "    <div class=\"alert alert-block alert-info\">\n",
    "    Use help(range) to see some other things you can do with the range function</div>\n",
    "1. Given the list ['one', 'two','three','four'], write code that will print: 'one and a two and a three and a four'\n",
    "1. Write a bit of code using for loop(s) that print out the following sequence:\n",
    "```\n",
    "0\n",
    "01\n",
    "012\n",
    "0123\n",
    "01234\n",
    "012345\n",
    "```\n",
    "<div class=\"alert alert-block alert-info\">\n",
    "This one's gonna be challenging to people who have not programmed before. Give it a try and then turn to your neighbor and talk about how you might solve it.\n",
    "</div>\n",
    "\n",
    "<div class=\"alert alert-block alert-info\">\n",
    "If you're writing your program in the Python Shell or in a Jupyter Notebook, Python will automatically append a newline to anything you print. To keep it from doing that end the print statement with a comman, e.g., `print i,`. If you're writing the code in a text editor and executing using `python filename.py`, you can keep using `print` in the normal way.\n",
    "</div>\n"
   ]
  },
  {
   "cell_type": "code",
   "execution_count": null,
   "metadata": {},
   "outputs": [],
   "source": []
  }
 ],
 "metadata": {
  "kernelspec": {
   "display_name": "Python 2",
   "language": "python",
   "name": "python2"
  },
  "language_info": {
   "codemirror_mode": {
    "name": "ipython",
    "version": 2
   },
   "file_extension": ".py",
   "mimetype": "text/x-python",
   "name": "python",
   "nbconvert_exporter": "python",
   "pygments_lexer": "ipython2",
   "version": "2.7.13"
  },
  "toc": {
   "nav_menu": {},
   "number_sections": true,
   "sideBar": true,
   "skip_h1_title": false,
   "toc_cell": false,
   "toc_position": {
    "height": "526px",
    "left": "0px",
    "right": "937px",
    "top": "111px",
    "width": "343px"
   },
   "toc_section_display": "block",
   "toc_window_display": true
  }
 },
 "nbformat": 4,
 "nbformat_minor": 2
}
